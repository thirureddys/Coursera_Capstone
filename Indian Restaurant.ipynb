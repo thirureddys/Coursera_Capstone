{
 "cells": [
  {
   "cell_type": "markdown",
   "metadata": {},
   "source": [
    "## Introduction/Business Problem"
   ]
  },
  {
   "cell_type": "markdown",
   "metadata": {},
   "source": [
    "• Toronto is a very developed capital city of Canada, with lots of business opportunities and business friendly environment, it has no issue in attracting many different players into the market\n",
    "\n",
    "• Of all the cities in Canada,Toronto has majority of Indian population \n",
    "\n",
    "• However, that also means the market is highly competitive and as a well-developed city, the cost of doing business is also one of the highest in the country. And thus, any new business venture or expansion in the country needs to be reviewed carefully and strategically targeted so that the return on investment will be sustainably reasonable and more importantly the investment can be considerably less risker to the business.\n",
    "\n",
    "• This is clearly a problem that Indian Resturant (i.e. ABC Resturant ) needs to review and resolve as part of their new business venture in the country. they have sufficent funds but they need to choose their first starting location carefully for the points highlighted above and more importantly, if this is successful, they will be able to replicate the same success fairly quickly; so first mover advantage is critical for this business and thereby the choice of location (i.e. neighborhood) is important to them too.\n",
    "\n",
    "• To solve this problem, data scientist team led by myself has been engaged by ABC Resturant. The objective is to locate and recommend to the management which neighborhood will be the best choice to start off their first Indain Resturant. "
   ]
  },
  {
   "cell_type": "code",
   "execution_count": null,
   "metadata": {},
   "outputs": [],
   "source": []
  }
 ],
 "metadata": {
  "kernelspec": {
   "display_name": "Python 3",
   "language": "python",
   "name": "python3"
  },
  "language_info": {
   "codemirror_mode": {
    "name": "ipython",
    "version": 3
   },
   "file_extension": ".py",
   "mimetype": "text/x-python",
   "name": "python",
   "nbconvert_exporter": "python",
   "pygments_lexer": "ipython3",
   "version": "3.6.5"
  }
 },
 "nbformat": 4,
 "nbformat_minor": 2
}
